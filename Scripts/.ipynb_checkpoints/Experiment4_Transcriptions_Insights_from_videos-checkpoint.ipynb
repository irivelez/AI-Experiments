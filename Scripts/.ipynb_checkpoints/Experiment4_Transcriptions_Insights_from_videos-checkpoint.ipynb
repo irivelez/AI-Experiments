{
 "cells": [
  {
   "cell_type": "code",
   "execution_count": 14,
   "id": "077fb7f5",
   "metadata": {},
   "outputs": [],
   "source": [
    "## Libraries and base path\n",
    "import os\n",
    "import sys\n",
    "import openai"
   ]
  },
  {
   "cell_type": "code",
   "execution_count": 15,
   "id": "88e3699e",
   "metadata": {},
   "outputs": [
    {
     "name": "stdout",
     "output_type": "stream",
     "text": [
      "Audio downloaded to /Users/irina/Coding/Python/AI-Experiments/Output/audio.mp4\n"
     ]
    }
   ],
   "source": [
    "## Downloading audio from the YouTube video\n",
    "\n",
    "# File path\n",
    "base_path = \"/Users/irina/Coding/Python/AI-Experiments/Output\"\n",
    "\n",
    "url = \"https://www.youtube.com/watch?v=rpkoCZ4vBSI\"\n",
    "yt = pytube.YouTube(url)\n",
    "audio_stream = yt.streams.filter(only_audio=True).first()\n",
    "\n",
    "file_name = \"audio.mp4\"\n",
    "\n",
    "# Define the full file path\n",
    "file_path = os.path.join(base_path, file_name)\n",
    "\n",
    "try:\n",
    "    audio_stream.download(output_path = base_path, filename = file_name)\n",
    "    print(f\"Audio downloaded to {file_path}\")\n",
    "    audio_file_path = f\"{base_path}/{file_name}\"\n",
    "except Exception as e:\n",
    "    print (f\"Error downloading audio: {e}\")"
   ]
  },
  {
   "cell_type": "code",
   "execution_count": null,
   "id": "a9a926d3",
   "metadata": {},
   "outputs": [],
   "source": [
    "## Transcribe the audio file audio.mp4\n",
    "\n",
    "import assemblyai as aai\n",
    "\n",
    "aai.settings.api_key = \"477b2961d2bf4cd6afce7147a7d773fc\"\n",
    "\n",
    "transcriber = aai.Transcriber()\n",
    "transcript = transcriber.transcribe(audio_file_path)\n",
    "\n",
    "if transcript.status == aai.TranscriptStatus.error:\n",
    "    print(transcript.error)\n",
    "else:\n",
    "    print(transcript.text)"
   ]
  },
  {
   "cell_type": "code",
   "execution_count": 15,
   "id": "89668697",
   "metadata": {},
   "outputs": [],
   "source": [
    "transcript_text = transcript.text\n",
    "\n",
    "# Define the file path\n",
    "output_file_path = f\"{base_path}/transcript.txt\"\n",
    "\n",
    "# Write the transcript text to a .txt file\n",
    "with open(output_file_path, \"w\") as file:\n",
    "    file.write(transcript_text)"
   ]
  },
  {
   "cell_type": "code",
   "execution_count": 18,
   "id": "dfd75579",
   "metadata": {},
   "outputs": [
    {
     "name": "stdout",
     "output_type": "stream",
     "text": [
      "Host: The host's name is not mentioned in the transcript.\n",
      "\n",
      "Guest: The guest's name is Clayton Christensen.\n",
      "\n",
      "Summary:\n",
      "1. Clayton Christensen introduces his theory of disruption and its impact on economies.\n",
      "2. He explains the model using the example of the steel industry and the success of minimills over integrated steel companies.\n",
      "3. Christensen discusses three types of innovation: disruptive innovation, sustaining innovation, and efficiency innovation.\n",
      "4. He explains how disruptive innovations create jobs, while efficiency innovations eliminate jobs.\n",
      "5. Christensen highlights the importance of investing in disruptive innovations for economic growth and prosperity.\n",
      "6. He discusses how Japan's economy stagnated after focusing on sustaining innovations instead of disruptive innovations.\n",
      "7. Christensen provides examples of disruption in various industries in Asia, including Toyota, Kia, Honda, Asus Tech, and Godrej.\n",
      "8. He talks about the impact of disruption on creating more accessible products for a larger population and stimulating economic growth.\n",
      "9. Christensen mentions the lack of disruptive innovation in Latin America, the Middle East, and Africa and the need to foster innovation in these regions.\n",
      "10. He discusses the seminary of new finance and its focus on measuring and optimizing capital, and argues that in a world of abundant and cheap capital, these measures are irrelevant.\n",
      "11. Christensen suggests that investments in developing human capital are scarce and costly and should be prioritized.\n",
      "12. He explains the concept of the straight line model of innovation and its negative impact on economic growth.\n",
      "13. Christensen points out the need for a new theory of prosperity that incorporates disruption as a key element.\n",
      "14. He invites further exploration and collaboration on the topic of disruption and its role in economic growth.\n",
      "15. Christensen concludes by opening the floor for questions, comments, and criticisms.\n",
      "\n",
      "Inspirational Quotes:\n",
      "1. \"Disruption might be an element of a theory of prosperity that hasn't yet been explored in the way that it should.\"\n",
      "2. \"If in fact, the cost of capital is zero, then trying to measure and optimize the cost of capital when capital is zero is irrelevant.\"\n",
      "3. \"Innovation creates options, and it's options that matter in predicting the future.\"\n",
      "4. \"Capital is abundant and cheap, and what is scarce are investments in making our good people become more capable people.\"\n",
      "5. \"The pursuit of profit is the causal mechanism behind the phenomena that we call the innovator's dilemma.\"\n",
      "\n",
      "Definitions:\n",
      "1. Disruptive Innovation: A type of innovation that transforms complicated, expensive products into simpler, more affordable products.\n",
      "2. Sustaining Innovation: An innovation that focuses on making good products better, without creating significant disruptions in the market.\n",
      "3. Efficiency Innovation: An innovation that allows companies to sell the same products to the same customers at a lower cost.\n",
      "4. Seminary of New Finance: A term used to describe the focus on measuring and optimizing the cost of capital in economic and financial theories.\n",
      "5. Return on Net Assets (RONA): A ratio that measures the profitability of a company by dividing its net income by its total assets.\n",
      "6. Economic Stagnation: A period of little or no economic growth and low job creation.\n",
      "7. Internal Rate of Return: A ratio that calculates the profitability of an investment by considering the time value of money.\n",
      "\n",
      "No people referred to in the conversation.\n"
     ]
    }
   ],
   "source": [
    "## Get the highlights from the transcription.\n",
    "# This script can currently process videos up to 1 hour long. \n",
    "# Longer videos are not supported because they exceed the maximum number of tokens allowed for processing. \n",
    "\n",
    "client = openai.OpenAI()\n",
    "\n",
    "# Load the transcript text from the file\n",
    "with open(output_file_path, 'r') as file:\n",
    "  transcript_text = file.read()\n",
    "\n",
    "# Define the prompt\n",
    "prompt = f\"\"\"\n",
    "You will be provided with a text file.\n",
    "The given text is a lecture abour disruptive innovation.\n",
    "\n",
    "Provide the host and guest name.\n",
    "Summarize the transcript into 15 points.\n",
    "If you find any inspirational quotes, compile them into a list.\n",
    "If you find any definitions, compile them into a list\n",
    "\n",
    "If there are any people referred to in the transcript, extract the people mentioned and list them along with some info about them in the following format:\n",
    "1. Person 1's Name: Person 1's profession or what he or she is known for or the context in which he or she was referred to\n",
    "2. Person 2's Name: Person 2's profession or what he or she is known for or the context in which he or she was referred to\n",
    "...\n",
    "2. Person N's Name: Person N's profession or what he or she is known for or the context in which he or she was referred to.\n",
    "\n",
    "If the transcript doesn't contain references to any people, then simply write \"No people referred to in the conversation.\"\n",
    "\n",
    "------------------------\n",
    "\n",
    "{transcript_text}\n",
    "\"\"\"\n",
    "\n",
    "# Generate the highlights using GPT-3.5 model\n",
    "response = client.chat.completions.create(\n",
    "  model=\"gpt-3.5-turbo-16k\",\n",
    "  messages=[\n",
    "    {\"role\": \"system\", \"content\": \"User:\"},\n",
    "    {\"role\": \"user\", \"content\": prompt}\n",
    "  ],\n",
    "  max_tokens=4096\n",
    ")\n",
    "\n",
    "# Print the highlights (updated access)\n",
    "print(response.choices[0].message.content)"
   ]
  },
  {
   "cell_type": "code",
   "execution_count": null,
   "id": "dcc1cdcf",
   "metadata": {},
   "outputs": [],
   "source": []
  }
 ],
 "metadata": {
  "kernelspec": {
   "display_name": "Python 3 (ipykernel)",
   "language": "python",
   "name": "python3"
  },
  "language_info": {
   "codemirror_mode": {
    "name": "ipython",
    "version": 3
   },
   "file_extension": ".py",
   "mimetype": "text/x-python",
   "name": "python",
   "nbconvert_exporter": "python",
   "pygments_lexer": "ipython3",
   "version": "3.10.13"
  }
 },
 "nbformat": 4,
 "nbformat_minor": 5
}
