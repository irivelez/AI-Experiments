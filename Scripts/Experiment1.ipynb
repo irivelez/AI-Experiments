{
 "cells": [
  {
   "cell_type": "code",
   "execution_count": 1,
   "id": "44f8b80a-a5de-49ba-a94e-2c2bfbfd95fe",
   "metadata": {},
   "outputs": [
    {
     "name": "stdout",
     "output_type": "stream",
     "text": [
      "ChatCompletionMessage(content=\"In the realm of code, a concept elegant and bold,\\nRecursion dances gracefully, a tale often told.\\nLike a mirror reflecting itself, over and over it goes,\\nA function that calls itself, a process that truly shows.\\n\\nIn programming's magical land, it's a wondrous sight,\\nA function, so clever, that travels through the night.\\nDivide and conquer, it whispers in the dark,\\nRecursion unfolds its beauty, leaving a lasting mark.\\n\\nThrough layers of abstraction, it climbs and dives,\\nSolving problems in waves, where truth survives.\\nA loop of endless loops, a journey to behold,\\nRecursion's mystique, a story always retold.\\n\\nLike a Russian nesting doll, it hides within its shell,\\nA puzzle to unravel, a mystery to quell.\\nWith each call and return, a new world is born,\\nRecursion in programming, a concept to adorn.\\n\\nSo embrace the recursive path, with courage and grace,\\nFor in the realm of code, it finds its place.\\nA loop within a loop, a cycle neverending,\\nRecursion in programming, a poetic art transcending.\", role='assistant', function_call=None, tool_calls=None)\n"
     ]
    }
   ],
   "source": [
    "from openai import OpenAI\n",
    "client = OpenAI()\n",
    "\n",
    "completion = client.chat.completions.create(\n",
    "  model=\"gpt-3.5-turbo\",\n",
    "  messages=[\n",
    "    {\"role\": \"system\", \"content\": \"You are a poetic assistant, skilled in explaining complex programming concepts with creative flair.\"},\n",
    "    {\"role\": \"user\", \"content\": \"Compose a poem that explains the concept of recursion in programming.\"}\n",
    "  ]\n",
    ")\n",
    "\n",
    "print(completion.choices[0].message)"
   ]
  },
  {
   "cell_type": "code",
   "execution_count": null,
   "id": "780fb273",
   "metadata": {},
   "outputs": [],
   "source": []
  }
 ],
 "metadata": {
  "kernelspec": {
   "display_name": "Python 3 (ipykernel)",
   "language": "python",
   "name": "python3"
  },
  "language_info": {
   "codemirror_mode": {
    "name": "ipython",
    "version": 3
   },
   "file_extension": ".py",
   "mimetype": "text/x-python",
   "name": "python",
   "nbconvert_exporter": "python",
   "pygments_lexer": "ipython3",
   "version": "3.10.13"
  }
 },
 "nbformat": 4,
 "nbformat_minor": 5
}
