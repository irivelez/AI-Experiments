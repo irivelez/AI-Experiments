{
 "cells": [
  {
   "cell_type": "code",
   "execution_count": 25,
   "id": "c7dda7f7",
   "metadata": {},
   "outputs": [
    {
     "name": "stdout",
     "output_type": "stream",
     "text": [
      "Assistant(id='asst_ThCGa6CpT5qgsqWKhXJjeiSu', created_at=1709763649, description=None, file_ids=[], instructions='You are a personal math tutor. When asked a question, write and run Python code to answer the question.', metadata={}, model='gpt-3.5-turbo-0125', name='Math Tutor', object='assistant', tools=[ToolCodeInterpreter(type='code_interpreter')])\n"
     ]
    }
   ],
   "source": [
    "from openai import OpenAI\n",
    "client = OpenAI()\n",
    "\n",
    "my_assistant = client.beta.assistants.create(\n",
    "    instructions=\"You are a personal math tutor. When asked a question, write and run Python code to answer the question.\",\n",
    "    name=\"Math Tutor\",\n",
    "    tools=[{\"type\": \"code_interpreter\"}],\n",
    "    model=\"gpt-3.5-turbo-0125\",\n",
    ")\n",
    "print(my_assistant)"
   ]
  },
  {
   "cell_type": "code",
   "execution_count": 32,
   "id": "faad7ec0",
   "metadata": {},
   "outputs": [
    {
     "name": "stdout",
     "output_type": "stream",
     "text": [
      "Thread(id='thread_pK3Vw4kSQt5PWjXcvyA3dBND', created_at=1709763878, metadata={}, object='thread')\n"
     ]
    }
   ],
   "source": [
    "thread = client.beta.threads.create()\n",
    "print(thread)"
   ]
  },
  {
   "cell_type": "code",
   "execution_count": 35,
   "id": "88e7e86d",
   "metadata": {},
   "outputs": [],
   "source": [
    "message = client.beta.threads.messages.create(\n",
    "    thread_id=thread.id,\n",
    "    role=\"user\",\n",
    "    content=\"I need to solve the equation `3x + 11 = 14`. Can you help me?\"\n",
    ")"
   ]
  },
  {
   "cell_type": "code",
   "execution_count": 37,
   "id": "2e117f1f",
   "metadata": {},
   "outputs": [
    {
     "name": "stdout",
     "output_type": "stream",
     "text": [
      "Run(id='run_ss6dEDNwM5pWrnRlOpOnWK4W', assistant_id='asst_r8RyTAlCB0E0FGmGJ2IpSbvy', cancelled_at=None, completed_at=None, created_at=1709764111, expires_at=1709764711, failed_at=None, file_ids=[], instructions='Please address the user as Jane Doe. The user has a premium account.', last_error=None, metadata={}, model='gpt-3.5-turbo-1106', object='thread.run', required_action=None, started_at=None, status='queued', thread_id='thread_pK3Vw4kSQt5PWjXcvyA3dBND', tools=[ToolAssistantToolsCode(type='code_interpreter')], usage=None)\n"
     ]
    }
   ],
   "source": [
    "run = client.beta.threads.runs.create(\n",
    "  thread_id=thread.id,\n",
    "  assistant_id=assistant.id,\n",
    "  instructions=\"Please address the user as Jane Doe. The user has a premium account.\"\n",
    ")\n",
    "print(run)"
   ]
  },
  {
   "cell_type": "code",
   "execution_count": 38,
   "id": "ae14110e",
   "metadata": {},
   "outputs": [
    {
     "name": "stdout",
     "output_type": "stream",
     "text": [
      "Run(id='run_ss6dEDNwM5pWrnRlOpOnWK4W', assistant_id='asst_r8RyTAlCB0E0FGmGJ2IpSbvy', cancelled_at=None, completed_at=1709764112, created_at=1709764111, expires_at=None, failed_at=None, file_ids=[], instructions='Please address the user as Jane Doe. The user has a premium account.', last_error=None, metadata={}, model='gpt-3.5-turbo-1106', object='thread.run', required_action=None, started_at=1709764111, status='completed', thread_id='thread_pK3Vw4kSQt5PWjXcvyA3dBND', tools=[ToolAssistantToolsCode(type='code_interpreter')], usage=Usage(completion_tokens=25, prompt_tokens=260, total_tokens=285))\n"
     ]
    }
   ],
   "source": [
    "run = client.beta.threads.runs.retrieve(\n",
    "  thread_id=thread.id,\n",
    "  run_id=run.id\n",
    ")\n",
    "print(run)"
   ]
  },
  {
   "cell_type": "code",
   "execution_count": 40,
   "id": "71d7ca72",
   "metadata": {},
   "outputs": [
    {
     "name": "stdout",
     "output_type": "stream",
     "text": [
      "[ThreadMessage(id='msg_H42qiR62ztqksU8fu4vcgA5j', assistant_id='asst_r8RyTAlCB0E0FGmGJ2IpSbvy', content=[MessageContentText(text=Text(annotations=[], value='The solution to the equation \\\\(3x + 11 = 14\\\\) is \\\\(x = 1\\\\).'), type='text')], created_at=1709764112, file_ids=[], metadata={}, object='thread.message', role='assistant', run_id='run_ss6dEDNwM5pWrnRlOpOnWK4W', thread_id='thread_pK3Vw4kSQt5PWjXcvyA3dBND'), ThreadMessage(id='msg_l6wARggxRqzhGwjqay2iPIoj', assistant_id='asst_r8RyTAlCB0E0FGmGJ2IpSbvy', content=[MessageContentText(text=Text(annotations=[], value='The solution to the equation \\\\(3x + 11 = 14\\\\) is \\\\(x = 1\\\\).'), type='text')], created_at=1709764089, file_ids=[], metadata={}, object='thread.message', role='assistant', run_id='run_cXstbufkvtlKdR29kGONoPMR', thread_id='thread_pK3Vw4kSQt5PWjXcvyA3dBND'), ThreadMessage(id='msg_OgfyXE6e5IenXgs6QoGkMAxY', assistant_id=None, content=[MessageContentText(text=Text(annotations=[], value='I need to solve the equation `3x + 11 = 14`. Can you help me?'), type='text')], created_at=1709764066, file_ids=[], metadata={}, object='thread.message', role='user', run_id=None, thread_id='thread_pK3Vw4kSQt5PWjXcvyA3dBND'), ThreadMessage(id='msg_7lHnmOCvqMT2YXna1vAkfdRi', assistant_id=None, content=[MessageContentText(text=Text(annotations=[], value='I need to solve the equation `3x + 11 = 14`. Can you help me?'), type='text')], created_at=1709763918, file_ids=[], metadata={}, object='thread.message', role='user', run_id=None, thread_id='thread_pK3Vw4kSQt5PWjXcvyA3dBND')]\n"
     ]
    }
   ],
   "source": [
    "messages = client.beta.threads.messages.list(\n",
    "  thread_id=thread.id\n",
    ")\n",
    "print(messages.data)"
   ]
  },
  {
   "cell_type": "code",
   "execution_count": null,
   "id": "0ec034d5",
   "metadata": {},
   "outputs": [],
   "source": []
  }
 ],
 "metadata": {
  "kernelspec": {
   "display_name": "Python 3 (ipykernel)",
   "language": "python",
   "name": "python3"
  },
  "language_info": {
   "codemirror_mode": {
    "name": "ipython",
    "version": 3
   },
   "file_extension": ".py",
   "mimetype": "text/x-python",
   "name": "python",
   "nbconvert_exporter": "python",
   "pygments_lexer": "ipython3",
   "version": "3.10.13"
  }
 },
 "nbformat": 4,
 "nbformat_minor": 5
}
