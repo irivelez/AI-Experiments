{
 "cells": [
  {
   "cell_type": "code",
   "execution_count": 1,
   "id": "161c6180-2990-43a0-bbea-af8b0ea9405d",
   "metadata": {},
   "outputs": [
    {
     "name": "stdout",
     "output_type": "stream",
     "text": [
      "zsh:1: command not found: pip\n"
     ]
    }
   ],
   "source": [
    "!pip install --user langchain==0.0.310 \\\n",
    "                    google-cloud-aiplatform==1.35.0 \\\n",
    "                    prettyprinter==0.18.0 \\\n",
    "                    wikipedia==1.4.0 \\\n",
    "                    chromadb==0.3.26 \\\n",
    "                    tiktoken==0.5.1 \\\n",
    "                    tabulate==0.9.0 \\\n",
    "                    sqlalchemy-bigquery==1.8.0 \\\n",
    "                    google-cloud-bigquery==3.11.4"
   ]
  },
  {
   "cell_type": "code",
   "execution_count": null,
   "id": "a671f955-30f6-474a-b46b-ac1704bbf641",
   "metadata": {},
   "outputs": [],
   "source": []
  }
 ],
 "metadata": {
  "kernelspec": {
   "display_name": "Python 3 (ipykernel)",
   "language": "python",
   "name": "python3"
  },
  "language_info": {
   "codemirror_mode": {
    "name": "ipython",
    "version": 3
   },
   "file_extension": ".py",
   "mimetype": "text/x-python",
   "name": "python",
   "nbconvert_exporter": "python",
   "pygments_lexer": "ipython3",
   "version": "3.11.8"
  }
 },
 "nbformat": 4,
 "nbformat_minor": 5
}
